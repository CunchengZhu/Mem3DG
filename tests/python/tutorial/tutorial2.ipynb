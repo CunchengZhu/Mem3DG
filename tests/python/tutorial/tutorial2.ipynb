{
 "cells": [
  {
   "cell_type": "markdown",
   "metadata": {},
   "source": [
    "# PyMem3DG Tutorial 2 - Ensure Mesh Quality\n",
    "`Cuncheng Zhu, Christopher T. Lee`\n",
    "\n",
    "This tutorial demonstrate the complementary functionalities of PyMem3DG to ensure the quality of mesh. The tutorial does not mean to be extensive but to provide the flavor and methods that PyMem3DG uses. The extensive documentations is hosted at https://rangamanilabucsd.github.io/Mem3DG/.\n",
    "\n",
    "To demonstrate, we set up the system to solve the remaining problem from Tutorial 1, evolving closed spherical membrane with high curvature deformation. Again, the following integration is pre-runned. Uncomment $\\texttt{fe.integrate()}$ to rerun them."
   ]
  },
  {
   "cell_type": "code",
   "execution_count": 1,
   "metadata": {},
   "outputs": [
    {
     "name": "stderr",
     "output_type": "stream",
     "text": [
      "c:\\users\\zhucu\\dev\\mem3dg\\python_src\\pymem3dg\\util.py:44: RuntimeWarning: divide by zero encountered in true_divide\n",
      "  phi = np.arctan(z/r) + np.pi / 2\n"
     ]
    }
   ],
   "source": [
    "import pymem3dg.util as dg_util\n",
    "import pymem3dg as dg\n",
    "\n",
    "icoFace, icoVertex = dg.getIcosphere(1, 3)\n",
    "icoVertex = dg_util.sphericalHarmonicsPerturbation(icoVertex, 5, 6, 0.1)\n",
    "p = dg.Parameters()\n",
    "p.bending.Kbc = 8.22e-5\n",
    "p.tension.Ksg = 0.1\n",
    "p.tension.At = 12.4866\n",
    "p.osmotic.isPreferredVolume = True\n",
    "p.osmotic.Kv = 0.02\n",
    "p.osmotic.Vt = 0.7 * 3.14 * 4 / 3\n"
   ]
  },
  {
   "cell_type": "markdown",
   "metadata": {},
   "source": [
    "The setup is exactly the same as the last example in tutorial 1. Without any mesh curation, the mesh will be ill-formed."
   ]
  },
  {
   "cell_type": "markdown",
   "metadata": {},
   "source": [
    "## Mesh regularization\n",
    "The first strategy is to regularize the mesh, restricting the tangential movement of vertices. Regularization does not change the mesh connectivity and the number of elements in the mesh, which leads to benefit of efficiency and ease of output. The three type of regularization provided by PyMem3DG includes constraints on edge length, local triangle area, and local corner angles, adjusted by $K_{se}$, $K_{sl}$ and $K_{st}$, respectively. "
   ]
  },
  {
   "cell_type": "code",
   "execution_count": 2,
   "metadata": {},
   "outputs": [],
   "source": [
    "outputDir=\"output/tutorial2/ico_reg\"\n",
    "g = dg.System(icoFace, icoVertex, p)\n",
    "g.meshProcessor.meshRegularizer.Kst = 1e-7\n",
    "g.meshProcessor.meshRegularizer.Ksl = 1e-5\n",
    "g.meshProcessor.meshRegularizer.Kse = 1e-7\n",
    "g.meshProcessor.meshRegularizer.readReferenceData(icoFace, icoVertex, 0)\n",
    "g.initialize()\n",
    "fe = dg.Euler(g, 0.1, 50000, 1000, 0, outputDir)\n",
    "fe.ifPrintToConsole = True\n",
    "fe.ifOutputTrajFile = True\n",
    "# fe.integrate()\n"
   ]
  },
  {
   "cell_type": "code",
   "execution_count": 8,
   "metadata": {},
   "outputs": [],
   "source": [
    "import pymem3dg.visual as dg_vis\n",
    "dg_vis.animate(outputDir+\"/traj.nc\", meanCurvature = True)"
   ]
  },
  {
   "cell_type": "markdown",
   "metadata": {},
   "source": [
    "With the above regularization, the mesh looks significantly nicer, with all triangles closed to equilateral.\n",
    "\n",
    "Free free to adjust the values of each type of regularization and attain intuition on the behavior. \n",
    "\n",
    "As you might observe, there are several disadvantages using the method of regularization. The behavior of simulation will depend on the strength of regularization. Local angle penalty is less restrictive and will minimally affect the underlying physics, but the resolution on high curvature region becomes very coarse. We could combine it with penalty on local area and more strongly edge length, but its influence on physics and optimization can not be neglected. In summary, how to find good balance between restriction and flexibility is not obvious. \n",
    "\n",
    "## Vertex shift\n",
    "In addition, instead of constantly applying regularization force, one could also regularize the mesh once in a while, by \"centering\" the vertices (*barycenter* to be exact). This can be done by toggling the vertex shift option as follows,"
   ]
  },
  {
   "cell_type": "code",
   "execution_count": 4,
   "metadata": {},
   "outputs": [
    {
     "data": {
      "text/plain": [
       "False"
      ]
     },
     "execution_count": 4,
     "metadata": {},
     "output_type": "execute_result"
    }
   ],
   "source": [
    "outputDir = \"output/tutorial2/ico_shift\"\n",
    "g = dg.System(icoFace, icoVertex, p)\n",
    "g.meshProcessor.meshRegularizer.Kst = 0\n",
    "g.meshProcessor.meshRegularizer.Ksl = 0\n",
    "g.meshProcessor.meshRegularizer.Kse = 0\n",
    "g.meshProcessor.meshMutator.isShiftVertex = True\n",
    "g.initialize()\n",
    "fe = dg.Euler(g, 0.1, 50000, 1000, 0, outputDir)\n",
    "fe.ifPrintToConsole = True\n",
    "fe.ifOutputTrajFile = True\n",
    "fe.processMeshPeriod = 1000\n",
    "# fe.integrate()\n"
   ]
  },
  {
   "cell_type": "markdown",
   "metadata": {},
   "source": [
    "which also lead to a good mesh"
   ]
  },
  {
   "cell_type": "markdown",
   "metadata": {},
   "source": [
    "## Mesh mutation\n",
    "\n",
    "To resolve the challenges of regularization, PyMem3DG supports adaptive mesh by mesh mutation, including edge flip, edge split and edge collapse. Because of challenges mentioned above, mesh mutation should always be turned on when running complex simulation with large deformation. \n",
    "\n",
    "Notice that mesh mutation will most likely increase the computational cost and size of output files. \n",
    "\n",
    "The computational cost involves the time to loop through elements and decide whether conduct mesh mutation, and the subsequent overheads needed for recomputation of cached quantities. Such operation happens in the frequency of data output, therefore increasing the number of data output could better prevent the deterioration of mesh, but will increase computation.\n",
    "\n",
    "Because of the varying mesh sizes, instead of single trajectory file using high performance *NetCDF* file, output file consists of series of snapshots in $\\texttt{.ply}$ format. The detail of output files and visualization will be covered in the other tutorial. "
   ]
  },
  {
   "cell_type": "code",
   "execution_count": 7,
   "metadata": {},
   "outputs": [
    {
     "data": {
      "text/plain": [
       "False"
      ]
     },
     "execution_count": 7,
     "metadata": {},
     "output_type": "execute_result"
    }
   ],
   "source": [
    "outputDir = \"output/tutorial2/ico_mut\"\n",
    "g = dg.System(icoFace, icoVertex, p)\n",
    "g.meshProcessor.meshMutator.isShiftVertex = True\n",
    "g.meshProcessor.meshMutator.flipNonDelaunay = True\n",
    "g.meshProcessor.meshMutator.splitFat = True\n",
    "g.meshProcessor.meshMutator.splitSkinnyDelaunay = True\n",
    "g.meshProcessor.meshMutator.splitCurved = True\n",
    "g.meshProcessor.meshMutator.minimumEdgeLength = 0.001\n",
    "g.meshProcessor.meshMutator.curvTol = 0.005\n",
    "g.meshProcessor.meshMutator.collapseSkinny = True\n",
    "g.meshProcessor.meshMutator.collapseSmall = True\n",
    "g.meshProcessor.meshMutator.collapseFlat = True\n",
    "g.meshProcessor.meshMutator.targetFaceArea = 0.0003\n",
    "g.meshProcessor.meshMutator.isSmoothenMesh = True\n",
    "g.initialize()\n",
    "fe = dg.Euler(g, 1, 50000, 1000, 0, outputDir)\n",
    "fe.ifPrintToConsole = True\n",
    "fe.ifOutputTrajFile = True\n",
    "fe.processMeshPeriod = 100\n",
    "fe.integrate()\n"
   ]
  },
  {
   "cell_type": "markdown",
   "metadata": {},
   "source": [
    "$\\texttt{meshMutator}$ is used to specify conditions for mesh mutation, which should be specified after the instantiation of $\\texttt{System}$. For details, please refer to the documentation. Mesh remains well-conditioned and well-resoluted during the simulation.\n",
    "\n",
    "## Additional notes: \n",
    " \n",
    "### Reference mesh when mutation\n",
    "Similarly, in theory we could also support specifying additional reference mesh. However, it is only necessary if the current input mesh has large deviation in total surface area from the reference mesh. Since membrane is nearly unstretchable, normally total surface area remains and self-referencing is sufficient. At the time of writing the tutorial, PyMem3DG will throw run-time error when the topology of reference mesh does not agree with the input mesh.\n",
    "\n",
    "### Regularization + mutation\n",
    "PyMem3DG does not recommend using regularization in conjunction with mesh mutation because it is most likely unnecessary to do so (as we see in previous example, vertex shift somewhat fills the role of regularization) and the behavior is not fully tested."
   ]
  },
  {
   "cell_type": "markdown",
   "metadata": {},
   "source": []
  },
  {
   "cell_type": "markdown",
   "metadata": {},
   "source": []
  }
 ],
 "metadata": {
  "interpreter": {
   "hash": "98288abb6735e61be6e9f25965bb35f3a5a17279ddba066b5e7ff16931db076e"
  },
  "kernelspec": {
   "display_name": "Python 3.7.6 64-bit ('base': conda)",
   "name": "python3"
  },
  "language_info": {
   "codemirror_mode": {
    "name": "ipython",
    "version": 3
   },
   "file_extension": ".py",
   "mimetype": "text/x-python",
   "name": "python",
   "nbconvert_exporter": "python",
   "pygments_lexer": "ipython3",
   "version": "3.9.7"
  },
  "orig_nbformat": 2
 },
 "nbformat": 4,
 "nbformat_minor": 2
}
