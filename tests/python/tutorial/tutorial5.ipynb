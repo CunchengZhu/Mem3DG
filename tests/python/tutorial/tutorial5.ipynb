{
 "cells": [
  {
   "cell_type": "markdown",
   "metadata": {},
   "source": [
    "# PyMem3DG Tutorial 5 - Extended Applications 1: membrane heterogeneity\n",
    "`Cuncheng Zhu, Christopher T. Lee`\n",
    "\n",
    "This tutorial covers how `Mem3DG` prescribes membrane heterogeneity to model local membrane effect. In previous tutorials, we only simulate membrane with homogenous composition and therefore constant membrane properties. However, in reality, most biological processes require local concentration of biological cues to drive more complex membrane response. For example, it has been suggested that local binding of Clathrin scaffolds the membrane to induce endocytosis. \n",
    "\n",
    "To demonstrate, as in tutorial 3, we will set up single boundary patch simulation. Please review if neccesary. In tutorial 3, where the deformation is mainly driven by the homogenous osmotic pressure. \n",
    "\n",
    "## Bending-driven budding\n",
    "This tutorial will model local scaffolding effect of Clathrin assuming the scaffold induced nonzero spontaneous curvature and the scaffold is more rigid than the bare membrane."
   ]
  },
  {
   "cell_type": "code",
   "execution_count": 1,
   "metadata": {},
   "outputs": [],
   "source": [
    "import pymem3dg as dg\n",
    "\n",
    "hexFace, hexVertex = dg.getHexagon(R = 1, nSub = 4)\n",
    "\n",
    "p = dg.Parameters()\n",
    "p.tension.isConstantSurfaceTension = True\n",
    "p.osmotic.isConstantOsmoticPressure = True\n",
    "p.boundary.shapeBoundaryCondition = \"fixed\"\n",
    "p.tension.Ksg = 1e-3\n",
    "p.osmotic.Kv = 0\n",
    "\n",
    "mP = dg.MeshProcessor()\n",
    "mP.meshMutator.flipNonDelaunay = True\n",
    "mP.meshMutator.splitLarge = True\n",
    "mP.meshMutator.splitFat = True\n",
    "mP.meshMutator.splitSkinnyDelaunay = True\n",
    "mP.meshMutator.splitCurved = True\n",
    "mP.meshMutator.curvTol = 0.005\n",
    "mP.meshMutator.collapseSkinny = True\n",
    "mP.meshMutator.shiftVertex = True"
   ]
  },
  {
   "cell_type": "markdown",
   "metadata": {},
   "source": [
    "We have already seen the settings above in tutorial 3. To reiterate, we instantiate a hexagon patch mesh, enable all mesh mutation operation to ensure mesh quality, and apply a constant surface tension and zero osmotic pressure. \n",
    "\n",
    "Unlike the previous simulation, in this tutorial we want to prescribe a heterogeneity patch. The parametrization is done using the protein density $\\phi \\in [0,1]$. `protein0` is used to specify the constant protein distribution or initial protein distribution when we talk about protein dynamics in the next tutorial. There are several ways to initialize it. First, when given single scalar $\\phi^0$, it prescribes uniform distribution of $\\phi = \\phi^0$; second when given full vector ${\\phi^0_i}$ with the number of entries equals to the number of vertices, it prescribes elementwise distribution in the order of vertex indices; the thrid method, which is applied in the following example, is to utilize the geodesic distance computation. \n",
    "\n",
    "In this case, we will initialize `protein0` *= \\[$R_1$, $R_2$, $\\phi^{in}$, $\\phi^{out}$\\]* drawing geodesic ellipse with two principal radius $R_1$ and $R_2$ centered at one particular point `pt` of the surface, and then precribing protein density inside $\\phi^{in}$ and outside $\\phi^{out}$, as well the sharpness of transition `sharpness` across the phase separation. \n",
    "\n",
    "To specify `pt`, you could either specify in 2D or 3D such that it will find the cloest point on the suface to the embedded point in term of Euclidean distance. `isFloatVertex` option repetitively compute the surface point to find parametrized point on the surface rather than on particular mesh vertex if turned off. Please refer to the documentation for more implementational details "
   ]
  },
  {
   "cell_type": "code",
   "execution_count": 5,
   "metadata": {},
   "outputs": [],
   "source": [
    "p.point.isFloatVertex = True\n",
    "p.point.pt = [0, 0] # \n",
    "\n",
    "p.proteinDistribution.protein0 = [0.5, 0.5, 1, 0]\n",
    "p.proteinDistribution.tanhSharpness = 20\n",
    "p.proteinDistribution.profile = \"tanh\"\n",
    "\n",
    "p.bending.Kb = 8.22e-5\n",
    "p.bending.Kbc = 3 * 8.22e-5 \n",
    "p.bending.H0c = 6"
   ]
  },
  {
   "cell_type": "markdown",
   "metadata": {},
   "source": [
    "As protein density will affect the membrane property, we need to specify the constituitive relation. Currently, *Mem3DG* supports the heterogeneous bending rigidity and spontaneous curvature to model endocytic patch. The vertex-wise bending rigidity $\\kappa = K_b + K_{bc} ~\\phi$ with user-defined parameter `Kb` and `Kbc`. Similarly, the vertex-wise spontaneous curvature $H_0 = H_{0c} ~\\phi$ with user-defined `H0c`. In other words, in this particular setup, we coated the center patch with protein with preferred curvature of 6 $\\mu m^{-1}$ and the coated membrane with scaffolding is 4 times more rigid than the bare membrane."
   ]
  },
  {
   "cell_type": "code",
   "execution_count": 6,
   "metadata": {},
   "outputs": [],
   "source": [
    "g = dg.System(hexFace, hexVertex, p, mP)"
   ]
  },
  {
   "cell_type": "markdown",
   "metadata": {},
   "source": [
    "The initial configuration with the colormap showing the protein density is the following:\n",
    "\n",
    "<img src=\"output/tutorial5/phi.png\" width=\"450\" height=\"225\">\n",
    "\n",
    "where $\\phi = 1$ within the circular patch of radius 0.5 centered at \\[0, 0\\] and $\\phi = 0$ outside the patch.\n",
    "\n",
    "With `System` **g** initilized, the rest is just routinely carrying out the integrator such as the forward Euler method. One particular things to note is that we could specify the period of recomputing geodesics on surface mesh, as well as that of doing mesh processing to ensure mesh quality using integrator options `tUpdateGeodesics` and `tProcessMesh`, respectively. "
   ]
  },
  {
   "cell_type": "code",
   "execution_count": 8,
   "metadata": {},
   "outputs": [],
   "source": [
    "fe_Kb = dg.Euler(g, 0.05, 2000, 100,\n",
    "                 3e-5, \"output/tutorial5/Kb/traj\")\n",
    "fe_Kb.updateGeodesicsPeriod = 50\n",
    "fe_Kb.processMeshPeriod = 50\n",
    "# fe_Kb.integrate()\n"
   ]
  },
  {
   "cell_type": "markdown",
   "metadata": {},
   "source": [
    "The resultant budding trajectory snapshots at `T = 0, 10000, 15100, 18100 and 20000` with the colormap showing the bending force:\n",
    "\n",
    "<img src=\"output/tutorial5/Kb/screenshot_frame000000.png\" width=\"400\" height=\"200\">\n",
    "<img src=\"output/tutorial5/Kb/screenshot_frame000100.png\" width=\"400\" height=\"200\">\n",
    "<img src=\"output/tutorial5/Kb/screenshot_frame000151.png\" width=\"400\" height=\"200\">\n",
    "<img src=\"output/tutorial5/Kb/screenshot_frame000181.png\" width=\"400\" height=\"200\">\n",
    "<img src=\"output/tutorial5/Kb/screenshot_frame000200.png\" width=\"400\" height=\"200\">\n",
    "\n",
    "and a transparent visualization of of the mean curvature for `T = 20000`:\n",
    "\n",
    "<img src=\"output/tutorial5/Kb/H_final.png\" width=\"400\" height=\"200\">\n",
    "\n",
    "## Interfacial line tension driven budding \n",
    "Last example we computationally model the scaffolding mechanism where we assuming the coated membrane is significantly more rigid than bare membrane. In the following section, we could provides an alternative budding mechanism by introducing additional energy terms. The following study should also be treated as an blueprint for `Mem3DG` to grow and further accomodate more complex physics as we develop. Please refer to the detailed documentation or relevant publication for theorical and implemental explantions. \n",
    "\n",
    "The additional is the Dirichlet energy $E_d = \\frac{1}{2} \\int_{\\mathcal{M}} \\eta \\| \\nabla_{\\vec{\\theta}} \\phi \\|^2 dA$ with user-defined parameter `eta` to control the role of the energy to the system. Intuitively the energy penalize any nonsmoothness of the protein distribution. Mechanically in our case with assumed phase seperation, it will results in the so-called \"line tension\" that constrict the interface to form the neck area of membrane budding. Chemically when we consider protein dynamics later in the next tutorial, it will result in protein diffusion.  "
   ]
  },
  {
   "cell_type": "code",
   "execution_count": 9,
   "metadata": {},
   "outputs": [],
   "source": [
    "p.dirichlet.eta = 5e-4\n",
    "p.bending.Kbc = 8.22e-5\n",
    "h = dg.System(hexFace, hexVertex, p, mP)\n",
    "\n",
    "fe_eta = dg.Euler(h, 0.1, 2000, 100, 3e-5, \"output/tutorial5/eta/traj\")\n",
    "fe_eta.updateGeodesicsPeriod = 50\n",
    "fe_eta.processMeshPeriod = 50\n",
    "# fe_eta.integrate()\n"
   ]
  },
  {
   "cell_type": "markdown",
   "metadata": {},
   "source": [
    "The resultant budding trajectory snapshots at `T = 0, 2000, 5000, 6000 and 7300` with the colormap showing the line tension force:\n",
    "\n",
    "<img src=\"output/tutorial5/eta/screenshot_frame000000.png\" width=\"400\" height=\"200\">\n",
    "<img src=\"output/tutorial5/eta/screenshot_frame000020.png\" width=\"400\" height=\"200\">\n",
    "<img src=\"output/tutorial5/eta/screenshot_frame000050.png\" width=\"400\" height=\"200\">\n",
    "<img src=\"output/tutorial5/eta/screenshot_frame000060.png\" width=\"400\" height=\"200\">\n",
    "<img src=\"output/tutorial5/eta/screenshot_frame000073.png\" width=\"400\" height=\"200\">\n",
    "\n",
    "and a transparent visualization of of the mean curvature for `T = 7300`:\n",
    "\n",
    "<img src=\"output/tutorial5/eta/H_73.png\" width=\"400\" height=\"200\">"
   ]
  }
 ],
 "metadata": {
  "interpreter": {
   "hash": "98288abb6735e61be6e9f25965bb35f3a5a17279ddba066b5e7ff16931db076e"
  },
  "kernelspec": {
   "display_name": "Python 3.7.6 64-bit ('base': conda)",
   "name": "python3"
  },
  "language_info": {
   "codemirror_mode": {
    "name": "ipython",
    "version": 3
   },
   "file_extension": ".py",
   "mimetype": "text/x-python",
   "name": "python",
   "nbconvert_exporter": "python",
   "pygments_lexer": "ipython3",
   "version": "3.9.7"
  },
  "orig_nbformat": 2
 },
 "nbformat": 4,
 "nbformat_minor": 2
}
