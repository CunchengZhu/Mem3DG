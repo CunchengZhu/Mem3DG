{
 "cells": [
  {
   "cell_type": "markdown",
   "metadata": {},
   "source": [
    "# PyMem3DG Tutorial 4 - Visualize Output\n",
    "`Cuncheng Zhu, Christopher T. Lee`\n",
    "\n",
    "Mem3DG output the trajectory data using a combination of NetCDF and $\\texttt{.ply}$ file. There are many ways to read the data. This tutorial provides a minimal set of functions from Python NetCDF and PyMem3DG to extact the data and visualize using Polyscope. "
   ]
  },
  {
   "cell_type": "code",
   "execution_count": 3,
   "metadata": {},
   "outputs": [],
   "source": [
    "import pymem3dg as dg\n",
    "import pymem3dg.visual as dg_vis\n",
    "import pymem3dg.read as dg_read\n",
    "\n",
    "import numpy as np\n",
    "import polyscope as ps\n",
    "import netCDF4 as nc\n",
    "import matplotlib.pyplot as plt"
   ]
  },
  {
   "cell_type": "markdown",
   "metadata": {},
   "source": [
    "## NetCDF\n",
    "Python netCDF4 library has conveient functions to extract a $\\texttt{.nc}$ file. Here we provide an example of reading the file using data generated from tutorial 1."
   ]
  },
  {
   "cell_type": "code",
   "execution_count": 4,
   "metadata": {},
   "outputs": [
    {
     "data": {
      "image/png": "[encoded data removed]",
      "text/plain": [
       "<Figure size 432x288 with 2 Axes>"
      ]
     },
     "metadata": {
      "needs_background": "light"
     },
     "output_type": "display_data"
    }
   ],
   "source": [
    "trajFile = 'output/tutorial1/biconcave/traj.nc'\n",
    "\n",
    "p = dg.Parameters()\n",
    "p.bending.Kbc = 8.22e-5\n",
    "p.tension.Ksg = 0.1\n",
    "p.tension.At = 12.4866\n",
    "p.osmotic.isPreferredVolume = True\n",
    "p.osmotic.Kv = 0.02\n",
    "p.osmotic.Vt = 0.7 * 3.14 * 4 / 3\n",
    "\n",
    "\n",
    "frameLim = (0, dg_read.sizeOf(trajFile))\n",
    "frameNum = frameLim[1] - frameLim[0]\n",
    "time = np.zeros(frameNum)\n",
    "kineticEnergy = np.zeros(frameNum)\n",
    "potentialEnergy = np.zeros(frameNum)\n",
    "externalWork = np.zeros(frameNum)\n",
    "totalEnergy = np.zeros(frameNum)\n",
    "volume = np.zeros(frameNum)\n",
    "for frame in range(frameNum):\n",
    "    system = dg.System(\n",
    "        trajFile,\n",
    "        frame,\n",
    "        p\n",
    "    )\n",
    "    system.initialize()\n",
    "    time[frame] = system.time\n",
    "    volume[frame] = system.volume\n",
    "    system.computeTotalEnergy()\n",
    "    energy = system.getEnergy()\n",
    "    kineticEnergy[frame] = energy.kineticEnergy\n",
    "    potentialEnergy[frame] = energy.potentialEnergy\n",
    "    if frame != 0:\n",
    "        externalWork[frame] = externalWork[\n",
    "            frame - 1\n",
    "        ] + system.computeIntegratedPower(time[frame] - time[frame - 1])\n",
    "totalEnergy = potentialEnergy + kineticEnergy - externalWork\n",
    "reducedVolume = volume / (3.14 * 4 / 3)\n",
    "\n",
    "# plotting\n",
    "fig, ax1 = plt.subplots()\n",
    "color = 'tab:red'\n",
    "ax1.set_xlabel('time')\n",
    "ax1.set_ylabel('energy', color=color)\n",
    "ax1.plot(time, totalEnergy, color=color)\n",
    "ax1.tick_params(axis='y', labelcolor=color)\n",
    "\n",
    "ax2 = ax1.twinx()\n",
    "color = 'tab:blue'\n",
    "ax2.set_ylabel('reduced volume', color=color)\n",
    "ax2.plot(time, reducedVolume, color=color)\n",
    "ax2.tick_params(axis='y', labelcolor=color)\n",
    "\n",
    "fig.tight_layout()\n",
    "plt.show()\n"
   ]
  },
  {
   "cell_type": "markdown",
   "metadata": {},
   "source": [
    "Unlike the $\\texttt{.ply}$ file that we will cover below, NetCDF file covers the full trajectory. Therefore, the first index of the resultant matrix is always the frame index.\n",
    "\n",
    "## $\\texttt{.ply}$\n",
    "Mem3DG provide some wrapper functions of a C++ library Happly to help extracting data from $\\texttt{.ply}$ file."
   ]
  },
  {
   "cell_type": "code",
   "execution_count": 5,
   "metadata": {},
   "outputs": [
    {
     "name": "stdout",
     "output_type": "stream",
     "text": [
      "['face', 'gc_internal_vertex', 'gc_internal_halfedge', 'gc_internal_edge', 'gc_internal_face', 'gc_internal_bl', 'vertex']\n",
      "['x', 'y', 'z', 'protein_density', 'mask', 'smoothing_mask', 'the_point', 'mean_curvature', 'gauss_curvature', 'spon_curvature', 'bending_force', 'capillary_force', 'line_tension_force', 'osmotic_force', 'external_force', 'physical_force', 'diffusion_potential', 'bending_potential', 'adsorption_potential', 'chemical_potential']\n"
     ]
    }
   ],
   "source": [
    "ply = 'output/tutorial4/out.ply'\n",
    "face, vertex = dg.readMesh(ply)\n",
    "print(dg.readData(ply))\n",
    "print(dg.readData(ply, 'vertex'))\n",
    "H = dg.readData(ply, 'vertex', 'mean_curvature')\n",
    "Fb = dg.readData(ply, 'vertex', 'bending_force')"
   ]
  },
  {
   "cell_type": "markdown",
   "metadata": {},
   "source": [
    "## Visualize using Polyscope\n",
    "Details and functionalities of Polyscope is located at https://polyscope.run/py/"
   ]
  },
  {
   "cell_type": "code",
   "execution_count": 6,
   "metadata": {},
   "outputs": [],
   "source": [
    "ps.init()\n",
    "ps_mesh = ps.register_surface_mesh(\"RBC\", vertex, face)\n",
    "ps_mesh.add_scalar_quantity(\"mean_curvature\", H, enabled=True)\n",
    "ps_mesh.add_scalar_quantity(\"bending_force\", Fb, enabled=True, vminmax=(-1e-5, 1e-5))\n",
    "ps.set_up_dir(\"z_up\")\n",
    "ps.show()"
   ]
  },
  {
   "cell_type": "markdown",
   "metadata": {},
   "source": []
  }
 ],
 "metadata": {
  "interpreter": {
   "hash": "98288abb6735e61be6e9f25965bb35f3a5a17279ddba066b5e7ff16931db076e"
  },
  "kernelspec": {
   "display_name": "Python 3.7.6 64-bit ('base': conda)",
   "name": "python3"
  },
  "language_info": {
   "codemirror_mode": {
    "name": "ipython",
    "version": 3
   },
   "file_extension": ".py",
   "mimetype": "text/x-python",
   "name": "python",
   "nbconvert_exporter": "python",
   "pygments_lexer": "ipython3",
   "version": "3.9.7"
  },
  "orig_nbformat": 2
 },
 "nbformat": 4,
 "nbformat_minor": 2
}
