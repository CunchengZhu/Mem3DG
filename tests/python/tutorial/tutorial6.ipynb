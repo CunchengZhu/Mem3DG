{
 "cells": [
  {
   "cell_type": "markdown",
   "metadata": {},
   "source": [
    "# PyMem3DG Tutorial 6 - Extended Applications 2: protein dynamics\n",
    "`Cuncheng Zhu, Christopher T. Lee`\n",
    "\n",
    "This tutorial covers how `Mem3DG` models protein dynamics. In previous tutorials, we have been focusing on the mechanics of membrane in response to current configuration and material properties, while the other side of the coin is the chemical response: how protein density $\\phi$ respond to the condition? \n",
    "\n",
    "Just as the mechanical force that drives the shape evolution, chemical potential drives the protein evolution. They are the shape variation and chemical variation of the free energy, respectively. The tutorial aims to provide the fundamental and practical API maniputation. Please refer to the documentation and publication for details of the theory. \n",
    "\n",
    "To demonstrate, this tutorial will model the protein evolution on a realistic dendritic spine model processed using GAMer(https://github.com/ctlee/gamer). Instead of evolving the shape of the geometry, we evolve the protein distribution on a given geometry. The dynamics of protein will be governed by curvature-sensing property of membrane-bound protein, in-plane diffusion of membrane protein, as well as out-of-plane protein-membrane adsorption. "
   ]
  },
  {
   "cell_type": "code",
   "execution_count": 24,
   "metadata": {},
   "outputs": [],
   "source": [
    "import pymem3dg as dg \n",
    "\n",
    "spine = \"sample_meshes/boundarySpine.ply\"\n",
    "spineFace, spineVertex = dg.processSoup(spine)"
   ]
  },
  {
   "cell_type": "markdown",
   "metadata": {},
   "source": [
    "For a untreated mesh soup, it might need to be processed before solving using `Mem3DG`. For this purpose, built-in function `processSoup` helps by internally reconstructing the mesh, merging identical vertices and stripping faces with duplicated vertices. \n",
    "\n",
    "Since we are only interested in protein dynamics, we need to disable shape variation and enable protein variation. \n",
    "\n",
    "The initialization of protein density `protein0` should be between 0 and 1 to avoid evoking the interior penalty method used to contain the range of $\\phi$ during the simulation. \n",
    "\n",
    "The only boundary condition for protein density that current `Mem3DG` supports is the `\"pin\"` boundary condition, which keep the boundary constant as `protein0`.  "
   ]
  },
  {
   "cell_type": "code",
   "execution_count": 25,
   "metadata": {},
   "outputs": [
    {
     "name": "stdout",
     "output_type": "stream",
     "text": [
      "area_init = 6.15588\n",
      "vol_init = 0.663231\n",
      "Characteristic volume wrt to At = 0\n"
     ]
    }
   ],
   "source": [
    "p = dg.Parameters()\n",
    "\n",
    "p.variation.isShapeVariation = False\n",
    "p.variation.isProteinVariation = True\n",
    "p.boundary.proteinBoundaryCondition = \"pin\"\n",
    "p.bending.Kb = 8.22e-5\n",
    "p.bending.H0c = 10\n",
    "p.dirichlet.eta = 0.01\n",
    "p.adsorption.epsilon = -1e-3 \n",
    "p.proteinMobility = 1\n",
    "\n",
    "import numpy as np\n",
    "proteinDensity = np.ones(np.shape(spineVertex)[0]) * 0.1\n",
    "velocity = np.zeros(np.shape(spineVertex))\n",
    "g = dg.System(spineFace, spineVertex, proteinDensity, velocity, p)\n",
    "g.initialize(nMutation=0, ifMute=False)"
   ]
  },
  {
   "cell_type": "markdown",
   "metadata": {},
   "source": [
    "The additional parameters is `epsilon` and `Bc` that represents the unit binding energy $\\varepsilon$ and protein mobility compared to shape evolution. Since we do not model shape evolution, the speed can be set to 1 since the speed should reflected on the time step. The adsorption energy $E_a = \\varepsilon \\int_{\\mathcal{M}} \\phi~ dA$ represents the base level membrane-protein interaction. Normally $\\varepsilon$ is negative to reflect the fact the protein tend to spontaneously bind to membrane."
   ]
  },
  {
   "cell_type": "code",
   "execution_count": 28,
   "metadata": {},
   "outputs": [
    {
     "name": "stdout",
     "output_type": "stream",
     "text": [
      "output/tutorial6/traj/\n"
     ]
    }
   ],
   "source": [
    "outputDir = \"output/tutorial6/traj/\"\n",
    "print(outputDir)\n",
    "fe = dg.Euler(system=g, \n",
    "            characteristicTimeStep=30,\n",
    "            totalTime=30000,\n",
    "            savePeriod=3000,\n",
    "            tolerance=1e-6,\n",
    "            outputDirectory=outputDir,\n",
    ")\n",
    "fe.ifPrintToConsole = True\n",
    "fe.ifOutputTrajFile = True\n",
    "# fe.integrate()"
   ]
  },
  {
   "cell_type": "markdown",
   "metadata": {},
   "source": [
    "The resultant trajectory snapshots at `T = 0, 6000, 51000 and 300000' with the colormap showing the protein density: \n",
    "\n",
    "<img src=\"output/tutorial6/screenshot_frame000000.png\" width=\"400\" height=\"200\">\n",
    "<img src=\"output/tutorial6/screenshot_frame000002.png\" width=\"400\" height=\"200\">\n",
    "<img src=\"output/tutorial6/screenshot_frame000017.png\" width=\"400\" height=\"200\">\n",
    "<img src=\"output/tutorial6/screenshot_frame000100.png\" width=\"400\" height=\"200\">\n"
   ]
  }
 ],
 "metadata": {
  "kernelspec": {
   "display_name": "Python 3.10.5 ('pymem3dg')",
   "language": "python",
   "name": "python3"
  },
  "language_info": {
   "codemirror_mode": {
    "name": "ipython",
    "version": 3
   },
   "file_extension": ".py",
   "mimetype": "text/x-python",
   "name": "python",
   "nbconvert_exporter": "python",
   "pygments_lexer": "ipython3",
   "version": "3.10.5"
  },
  "orig_nbformat": 4,
  "vscode": {
   "interpreter": {
    "hash": "f3a6181206ca5e963636b0bacef5e7dd6e095289a05f91c07e5deb7fefc1deb1"
   }
  }
 },
 "nbformat": 4,
 "nbformat_minor": 2
}
