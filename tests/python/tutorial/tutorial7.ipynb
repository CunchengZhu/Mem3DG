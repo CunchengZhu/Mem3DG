{
 "cells": [
  {
   "cell_type": "markdown",
   "metadata": {},
   "source": [
    "# PyMem3DG Tutorial 7 - Extended Applications 3: membrane mechanochemical dynamics\n",
    "`Cuncheng Zhu, Christopher T. Lee`\n",
    "\n",
    "This tutorial covers how `Mem3DG` models endocytic budding on spherical membrane using protein dynamics coupled with membrane mechanics. "
   ]
  },
  {
   "cell_type": "code",
   "execution_count": 16,
   "metadata": {},
   "outputs": [],
   "source": [
    "import pymem3dg as dg\n",
    "import numpy as np\n",
    "import pymem3dg.visual as dg_vis\n",
    "import polyscope as ps\n",
    "import pymem3dg.read as dg_read\n",
    "\n",
    "CONTINUE = False # change this to True if continue from an existing trajectory file \n",
    "outputDir = \"output/tutorial7/traj/\"\n",
    "trajFile = outputDir + \"traj.nc\"\n",
    "face, vertex = dg.getIcosphere(radius=1, subdivision=3)\n",
    "if CONTINUE:\n",
    "    continuationFrame = dg_read.sizeOf(trajnc=trajFile) - 1\n",
    "else:\n",
    "    continuationFrame = 0\n"
   ]
  },
  {
   "cell_type": "code",
   "execution_count": 17,
   "metadata": {},
   "outputs": [],
   "source": [
    "p = dg.Parameters()\n",
    "\n",
    "p.proteinMobility = 3\n",
    "p.temperature = 0\n",
    "\n",
    "p.variation.isProteinVariation = True\n",
    "p.variation.isShapeVariation = True\n",
    "\n",
    "p.bending.Kb = 8.22e-5\n",
    "p.bending.Kbc = 8.22e-5\n",
    "p.bending.H0c = 10\n",
    "\n",
    "p.tension.Ksg = 1\n",
    "p.tension.At = 12.5025\n",
    "\n",
    "p.adsorption.epsilon = -1e-3\n",
    "\n",
    "p.osmotic.isPreferredVolume = True\n",
    "p.osmotic.Kv = 0.05\n",
    "p.osmotic.Vt = 0.7 * 4.15889\n",
    "\n",
    "p.dirichlet.eta = p.bending.Kb"
   ]
  },
  {
   "cell_type": "code",
   "execution_count": 6,
   "metadata": {},
   "outputs": [],
   "source": [
    "proteinDensity = np.ones(np.shape(vertex)[0]) * 0.1\n",
    "velocity = np.zeros(np.shape(vertex))\n",
    "\n",
    "if CONTINUE:\n",
    "    g = dg.System(trajFile=trajFile, startingFrame=continuationFrame, parameters=p)\n",
    "else:\n",
    "    g = dg.System(\n",
    "        topologyMatrix=face,\n",
    "        vertexMatrix=vertex,\n",
    "        proteinDensity=proteinDensity,\n",
    "        velocity=velocity,\n",
    "        parameters=p,\n",
    "    )\n"
   ]
  },
  {
   "cell_type": "code",
   "execution_count": 7,
   "metadata": {},
   "outputs": [],
   "source": [
    "g.meshProcessor.meshMutator.isShiftVertex = True\n",
    "g.meshProcessor.meshMutator.flipNonDelaunay = True\n",
    "# g.meshProcessor.meshMutator.splitLarge = True\n",
    "g.meshProcessor.meshMutator.splitFat = True\n",
    "g.meshProcessor.meshMutator.splitSkinnyDelaunay = True\n",
    "g.meshProcessor.meshMutator.splitCurved = True\n",
    "g.meshProcessor.meshMutator.curvTol = 0.004\n",
    "g.meshProcessor.meshMutator.collapseSkinny = True\n",
    "# g.meshProcessor.meshMutator.collapseSmall = True\n",
    "# g.meshProcessor.meshMutator.collapseFlat = True\n",
    "# g.meshProcessor.meshMutator.targetFaceArea = 0.0003 * R_bar**2\n",
    "g.meshProcessor.meshMutator.isSmoothenMesh = True"
   ]
  },
  {
   "cell_type": "code",
   "execution_count": 8,
   "metadata": {},
   "outputs": [
    {
     "name": "stdout",
     "output_type": "stream",
     "text": [
      "area_init = 12.5065\n",
      "vol_init = 4.15274\n",
      "Characteristic volume wrt to At = 4.1569\n"
     ]
    }
   ],
   "source": [
    "g.initialize(nMutation=0, ifMute=False)"
   ]
  },
  {
   "cell_type": "code",
   "execution_count": null,
   "metadata": {},
   "outputs": [
    {
     "ename": "",
     "evalue": "",
     "output_type": "error",
     "traceback": [
      "\u001b[1;31mThe Kernel crashed while executing code in the the current cell or a previous cell. Please review the code in the cell(s) to identify a possible cause of the failure. Click <a href='https://aka.ms/vscodeJupyterKernelCrash'>here</a> for more info. View Jupyter <a href='command:jupyter.viewOutput'>log</a> for further details."
     ]
    },
    {
     "ename": "",
     "evalue": "",
     "output_type": "error",
     "traceback": [
      "\u001b[1;31mCanceled future for execute_request message before replies were done"
     ]
    }
   ],
   "source": [
    "\"\"\" Integrator construction \"\"\"\n",
    "fe = dg.Euler(\n",
    "    system=g,\n",
    "    characteristicTimeStep=0.25,\n",
    "    totalTime=20000,\n",
    "    savePeriod=1000 * 0.25,\n",
    "    tolerance=0,\n",
    "    outputDirectory=outputDir,\n",
    "    frame=continuationFrame,\n",
    ")\n",
    "\"\"\" settings \"\"\"\n",
    "# fe.updateGeodesicsPeriod = 100\n",
    "fe.processMeshPeriod = 10000\n",
    "# fe.fluctuatePeriod = 10\n",
    "# fe.fluctuateAmplitude = 0.001\n",
    "fe.isBacktrack = True\n",
    "# fe.ifAdaptiveStep = False\n",
    "\"\"\" Verbosity \"\"\"\n",
    "fe.ifPrintToConsole = True\n",
    "fe.ifOutputTrajFile = True\n",
    "# fe.ifOutputMeshFile = True\n",
    "\n",
    "fe.integrate()\n"
   ]
  },
  {
   "cell_type": "code",
   "execution_count": 20,
   "metadata": {},
   "outputs": [],
   "source": [
    "\n",
    "dg_vis.animate(trajNc=trajFile, parameters = p)\n",
    "ps.show()"
   ]
  },
  {
   "cell_type": "code",
   "execution_count": null,
   "metadata": {},
   "outputs": [],
   "source": []
  }
 ],
 "metadata": {
  "kernelspec": {
   "display_name": "Python 3.10.5 ('pymem3dg')",
   "language": "python",
   "name": "python3"
  },
  "language_info": {
   "codemirror_mode": {
    "name": "ipython",
    "version": 3
   },
   "file_extension": ".py",
   "mimetype": "text/x-python",
   "name": "python",
   "nbconvert_exporter": "python",
   "pygments_lexer": "ipython3",
   "version": "3.10.5"
  },
  "orig_nbformat": 4,
  "vscode": {
   "interpreter": {
    "hash": "f3a6181206ca5e963636b0bacef5e7dd6e095289a05f91c07e5deb7fefc1deb1"
   }
  }
 },
 "nbformat": 4,
 "nbformat_minor": 2
}
