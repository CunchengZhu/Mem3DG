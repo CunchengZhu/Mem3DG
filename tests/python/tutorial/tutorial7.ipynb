{
 "cells": [
  {
   "cell_type": "markdown",
   "metadata": {},
   "source": [
    "# PyMem3DG Tutorial 7 - Unwrapped integrator\n",
    "\n",
    "It is possible to write an integrator directly in Python such that there is more control over its behavior. It could also be useful if you want to modify certain parameters/data during simulation. Here is a snippet on how to write a simple forward Euler integrator. "
   ]
  },
  {
   "cell_type": "code",
   "execution_count": 1,
   "metadata": {},
   "outputs": [],
   "source": [
    "import pymem3dg as dg\n",
    "oblate = \"sample_meshes/oblate.ply\"\n",
    "p = dg.Parameters()\n",
    "p.bending.Kbc = 8.22e-5\n",
    "p.tension.Ksg = 0.1\n",
    "p.tension.At = 12.4866\n",
    "p.osmotic.isPreferredVolume = True\n",
    "p.osmotic.Kv = 0.02\n",
    "p.osmotic.Vt = 0.7 * 3.14 * 4 / 3"
   ]
  },
  {
   "cell_type": "code",
   "execution_count": 2,
   "metadata": {},
   "outputs": [],
   "source": [
    "g = dg.System(inputMesh=oblate, parameters=p)\n",
    "g.initialize()\n",
    "\n",
    "outputDir = \"output/tutorial7\"\n",
    "fe = dg.Euler(system=g, characteristicTimeStep=1,\n",
    "              tolerance=1e-5, outputDirectory=outputDir)\n",
    "\n",
    "frame = 0\n",
    "lastSave = g.time\n",
    "lastProcessMesh = g.time\n",
    "initTime = g.time\n",
    "tSave = 2000 * fe.characteristicTimeStep\n",
    "processMeshPeriod = 30\n",
    "\n",
    "fe.integrate()\n",
    "fe.createMutableNetcdfFile(isContinue=False)\n",
    "while frame < 10:\n",
    "    # compute forces/energy, and test for fe.EXIT\n",
    "    fe.status()\n",
    "\n",
    "    # saveData\n",
    "    if ((g.time - lastSave > tSave) | (g.time == initTime) | fe.EXIT):\n",
    "        lastSave = g.time\n",
    "        fe.saveData(ifOutputTrajFile=True,\n",
    "                    ifOutputMeshFile=False, ifPrintToConsole=True)\n",
    "        frame = frame + 1\n",
    "\n",
    "    if (fe.EXIT):\n",
    "        break\n",
    "\n",
    "    # mesh processing\n",
    "    if (g.time - lastProcessMesh > (processMeshPeriod * fe.timeStep)):\n",
    "        lastProcessMesh = g.time\n",
    "        g.mutateMesh(1)\n",
    "        g.updateConfigurations()\n",
    "\n",
    "    # time stepping and update variables\n",
    "    if (g.time == lastProcessMesh):\n",
    "        g.time = g.time + 1e-10 * fe.characteristicTimeStep\n",
    "    else:\n",
    "        fe.march()\n",
    "\n",
    "fe.closeMutableNetcdfFile()\n"
   ]
  },
  {
   "cell_type": "code",
   "execution_count": 3,
   "metadata": {},
   "outputs": [],
   "source": [
    "import pymem3dg.visual as dg_vis\n",
    "dg_vis.animate(outputDir+\"/traj.nc\", meanCurvature = True)"
   ]
  },
  {
   "cell_type": "code",
   "execution_count": null,
   "metadata": {},
   "outputs": [],
   "source": []
  }
 ],
 "metadata": {
  "interpreter": {
   "hash": "9c474042845dd387ec22cec5f7b5d73a7ad82ce53f6c5d1414fa2ca721921132"
  },
  "kernelspec": {
   "display_name": "Python 3.9.12",
   "language": "python",
   "name": "python3"
  },
  "language_info": {
   "codemirror_mode": {
    "name": "ipython",
    "version": 3
   },
   "file_extension": ".py",
   "mimetype": "text/x-python",
   "name": "python",
   "nbconvert_exporter": "python",
   "pygments_lexer": "ipython3",
   "version": "3.9.12"
  },
  "orig_nbformat": 4
 },
 "nbformat": 4,
 "nbformat_minor": 2
}
