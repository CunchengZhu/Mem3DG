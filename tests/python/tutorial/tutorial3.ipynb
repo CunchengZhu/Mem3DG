{
 "cells": [
  {
   "cell_type": "markdown",
   "metadata": {},
   "source": [
    "# PyMem3DG Tutorial 3 - Open Boundary Simulation and Masking\n",
    "`Cuncheng Zhu, Christopher T. Lee`\n",
    "\n",
    "This tutorial covers the functionality of PyMem3DG on dealing with boundary condition. In previous tutorials, we only simulate closed membrane and therefore no addditional complexity on the boundary. Though in reality, lipid membrane is almost always closed, it is beneficial to only simulate certain region of the membrane to save computational cost. \n",
    "\n",
    "To demonstrate, we will set up a single boundary system on a hexagon patch and conduct study on the effect of osmotic pressure similar to previous tutorial, but instead of simulating the full vesicle, we zoom in at a small region on the surface. "
   ]
  },
  {
   "cell_type": "code",
   "execution_count": 2,
   "metadata": {},
   "outputs": [],
   "source": [
    "import pymem3dg as dg "
   ]
  },
  {
   "cell_type": "markdown",
   "metadata": {},
   "source": [
    "There is a pregenerated patch mesh in `/sample_meshes` folder that has circular boundary, but we could also use a built-in function to generate a hexgon mesh and subdivide them to get enough resolution, like this:\n",
    "\n",
    "<img src=\"output/tutorial3/screenshot_frame000000.png\" width=\"400\" height=\"200\">\n"
   ]
  },
  {
   "cell_type": "code",
   "execution_count": 5,
   "metadata": {},
   "outputs": [],
   "source": [
    "hexFace, hexVertex = dg.getHexagon(R = 1, nSub = 4)\n",
    "\n",
    "p = dg.Parameters()\n",
    "p.bending.Kbc = 8.22e-5 \n",
    "p.tension.Ksg = 0.1\n",
    "p.tension.At = 103\n",
    "p.tension.A_res = 100\n",
    "p.osmotic.isPreferredVolume = True\n",
    "p.osmotic.Kv = 0.1\n",
    "p.osmotic.V_res = 4\n",
    "p.osmotic.Vt = 5\n",
    "\n",
    "p.boundary.shapeBoundaryCondition = \"fixed\""
   ]
  },
  {
   "cell_type": "markdown",
   "metadata": {},
   "source": [
    "This is the same setup as in tutorial 2. However, we will have addition parameter to provide information at and outside the boundary. Again, we are simulating *part* of close membrane structure! \n",
    "\n",
    "Outside of boundary, $V_{res}$ and $A_{res}$ represents the remaining volume and surface area reservoir such that the reference volume $\\bar{V} = V_{res}$ and $\\bar{A} = A_{res} + A_{polygon}$, where $A_{polygon}$ is total polygon area formed by the boundary loop polygon.\n",
    "\n",
    "At the boundary, we need to specify the boundary condition, the option includes $\\texttt{\"none\"}$, $\\texttt{\"fixed\"}$, $\\texttt{\"pin\"}$ and $\\texttt{\"roller\"}$. We will demonstrate how it affects the simulations in the following examples and please refer to the documentation for specfics and implementation if necessary.\n",
    "\n",
    "## Fixed boundary \n",
    "The fixed boundary condition fix both the position of the boundary elements, but also their curvature."
   ]
  },
  {
   "cell_type": "code",
   "execution_count": 8,
   "metadata": {},
   "outputs": [
    {
     "data": {
      "text/plain": [
       "False"
      ]
     },
     "execution_count": 8,
     "metadata": {},
     "output_type": "execute_result"
    }
   ],
   "source": [
    "g = dg.System(hexFace, hexVertex, p)\n",
    "fe_fixed = dg.Euler(g, 1, 10000, 1000, 3e-5, \"output/tutorial3/fixed\")\n",
    "fe_fixed.verbosity = 3\n",
    "# fe_fixed.integrate()"
   ]
  },
  {
   "cell_type": "markdown",
   "metadata": {},
   "source": [
    "At the final time $T = 10000$, resisting the surface tension, the osmotic pressure push the membrane outward, forming some bump.\n",
    "\n",
    "## Pin boundary\n",
    "The pin boundary condition only fix the position of the boundary, but not the curvature."
   ]
  },
  {
   "cell_type": "code",
   "execution_count": 9,
   "metadata": {},
   "outputs": [],
   "source": [
    "p.boundary.shapeBoundaryCondition = \"pin\"\n",
    "\n",
    "g = dg.System(hexFace, hexVertex, p)\n",
    "fe_pin = dg.Euler(g, 1, 10000, 1000, 3e-5, \"output/tutorial3/pin\")\n",
    "fe_pin.verbosity = 3\n",
    "# fe_pin.integrate()"
   ]
  },
  {
   "cell_type": "markdown",
   "metadata": {},
   "source": [
    "At the same final time $T = 10000$, the boundary is no longer flat.\n",
    "\n",
    "## Roller boundary"
   ]
  },
  {
   "cell_type": "code",
   "execution_count": 10,
   "metadata": {},
   "outputs": [],
   "source": [
    "p.boundary.shapeBoundaryCondition = \"roller\"\n",
    "mP = dg.MeshProcessor()\n",
    "mP.meshMutator.collapseSkinny = True\n",
    "\n",
    "g = dg.System(hexFace, hexVertex, p, mP)\n",
    "fe_roller = dg.Euler(g, 1, 10000, 1000, 3e-5, \"output/tutorial3/roller\")\n",
    "fe_roller.verbosity = 3\n",
    "# fe_roller.integrate()"
   ]
  },
  {
   "cell_type": "markdown",
   "metadata": {},
   "source": [
    "In this case, we get shape with shrinked rounded corners.\n",
    "\n",
    "The roller boundary condition constrains movements in certain direction, at this case in the vertical direction but allowing sliding over the horizontal plane. \n",
    "\n",
    "You might notice that we add edge collapse to this set of simulation. This is due to the fact where rounded boundary can create skinny triangles at the corner that should be eliminated. \n",
    "\n",
    "## Mask\n",
    "Under the hood, the boundary condition is implemented using mask. In addition to boundary mask, we could also mask vertices based on particular neighborhood, which applies to both open and closed mesh. The specifics about how to specify these vertices in PyMem3DG will be covered in anthother tutorial, but just for completeness and demonstration, we could have some area remaining flat by doing "
   ]
  },
  {
   "cell_type": "code",
   "execution_count": 11,
   "metadata": {},
   "outputs": [],
   "source": [
    "p.boundary.shapeBoundaryCondition = \"fixed\"\n",
    "p.point.pt = [1,1]\n",
    "p.variation.radius = 1.3\n",
    "g = dg.System(hexFace, hexVertex, p)\n",
    "fe_mask = dg.Euler(g, 1, 10000, 1000, 3e-5, \"output/tutorial3/mask\")\n",
    "fe_mask.verbosity = 3\n",
    "# fe_mask.integrate()"
   ]
  },
  {
   "cell_type": "markdown",
   "metadata": {},
   "source": [
    "In this case, the result the mesh will only budge in a small section around `pt` in radius of 1.3."
   ]
  },
  {
   "cell_type": "markdown",
   "metadata": {},
   "source": [
    "## Additional Notes:\n",
    "### $A_{polygon}$\n",
    "**Please note that in current version of PyMem3DG, $A_{polygon}$ is only well-defined when the boundary loop remains on the same plane!** If not, the area value will depend on how the underlying algorithm divide the boundary polygon, which is not fully predicable. \n",
    "### Reference mesh\n",
    "The reasoning on specifying reference mesh remain the same on open boundary mesh vs close surface mesh. In most cases, self referencing is sufficient. One notable difference between close mesh and open mesh is the reference area, which will remain as long as boundary position is fixed (a.k.a fixed and pin boundary). Additional reference mesh may be needed when doing roller boundary condition when for example, continuing an interrupted simulation. \n",
    "### Constant osmotic pressure & surface tension \n",
    "Instead of following the argument of having a membrane reservoir, maybe it is more explicit to specify the surface tension and pressure directly! This is particularly true when membrane reservoir is so large that local deformation is too unnoticeable that approximately it is just applying some constant value of pressure and tension. To do this explicitly, all you need to do is toggle two switches. And $K_V$ and $K_{sg}$ represents pressure and tension directly instead of modulus. In other words,"
   ]
  },
  {
   "cell_type": "code",
   "execution_count": 12,
   "metadata": {},
   "outputs": [],
   "source": [
    "p.osmotic.isConstantOsmoticPressure = True\n",
    "p.tension.isConstantSurfaceTension = True\n",
    "p.tension.Ksg = 1e-4\n",
    "p.osmotic.Kv = 1e-3"
   ]
  },
  {
   "cell_type": "code",
   "execution_count": null,
   "metadata": {},
   "outputs": [],
   "source": []
  }
 ],
 "metadata": {
  "interpreter": {
   "hash": "98288abb6735e61be6e9f25965bb35f3a5a17279ddba066b5e7ff16931db076e"
  },
  "kernelspec": {
   "display_name": "Python 3.7.6 64-bit ('base': conda)",
   "name": "python3"
  },
  "language_info": {
   "codemirror_mode": {
    "name": "ipython",
    "version": 3
   },
   "file_extension": ".py",
   "mimetype": "text/x-python",
   "name": "python",
   "nbconvert_exporter": "python",
   "pygments_lexer": "ipython3",
   "version": "3.9.7"
  },
  "orig_nbformat": 2
 },
 "nbformat": 4,
 "nbformat_minor": 2
}
